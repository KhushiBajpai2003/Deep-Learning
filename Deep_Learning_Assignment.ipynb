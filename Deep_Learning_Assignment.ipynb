{
  "nbformat": 4,
  "nbformat_minor": 0,
  "metadata": {
    "colab": {
      "provenance": []
    },
    "kernelspec": {
      "name": "python3",
      "display_name": "Python 3"
    },
    "language_info": {
      "name": "python"
    }
  },
  "cells": [
    {
      "cell_type": "markdown",
      "source": [
        "1A.Implement Perceptron learning algorithm for classification\n",
        "of following points {P0(-1,-1,-1) , P1(-1,-1,1) , P2(-1,1,-1)\n",
        ", P3(-1,1,1) ,P4(1,-1,-1) , P5(1,-1,1) , P6(1,1,-1)\n",
        ", P7(1,1,1) } in to two classes:\n",
        "\n",
        "\n",
        "C1={P7 (1,1,1)}\n",
        "\n",
        "\n",
        "C2={P0(-1,-1,-1)\n",
        ", P1(-1,-1,1) , P2(-1,1,-1) , P3(-1,1,1) ,P4(1,-1,-1)\n",
        ", P5(1,-1,1) , P6(1,1,-1) }"
      ],
      "metadata": {
        "id": "3O5w6n15hN4D"
      }
    },
    {
      "cell_type": "code",
      "source": [
        "import numpy as np\n",
        "\n",
        "#define the data points\n",
        "data_points = {\n",
        "    'p0': np.array([-1,-1,-1]),\n",
        "    'p1': np.array([-1,-1,1]),\n",
        "    'p2': np.array([-1,1,-1]),\n",
        "    'p3': np.array([-1,1,1]),\n",
        "    'p4': np.array([1,-1,-1]),\n",
        "    'p5': np.array([1,-1,1]),\n",
        "    'p6': np.array([1,1,-1]),\n",
        "    'p7': np.array([1,1,1]),\n",
        "}"
      ],
      "metadata": {
        "id": "NY1Tu2QlKIub"
      },
      "execution_count": null,
      "outputs": []
    },
    {
      "cell_type": "code",
      "source": [
        "c1 = ['p7']\n",
        "c2 = ['p0','p1','p2','p3','p4','p5','p6']"
      ],
      "metadata": {
        "id": "hAQgqNuOKfKL"
      },
      "execution_count": null,
      "outputs": []
    },
    {
      "cell_type": "code",
      "source": [
        "weights=np.zeros(len(data_points['p0']))\n",
        "bias=0\n",
        "print(weights)"
      ],
      "metadata": {
        "colab": {
          "base_uri": "https://localhost:8080/"
        },
        "id": "Y4QfJVWhL1AW",
        "outputId": "932a6170-748d-407f-a7ec-009f19dec094"
      },
      "execution_count": null,
      "outputs": [
        {
          "output_type": "stream",
          "name": "stdout",
          "text": [
            "[0. 0. 0.]\n"
          ]
        }
      ]
    },
    {
      "cell_type": "code",
      "source": [
        "learning_rate = 1"
      ],
      "metadata": {
        "id": "NqY4EOVVLiuQ"
      },
      "execution_count": null,
      "outputs": []
    },
    {
      "cell_type": "code",
      "source": [
        "epochs = 100"
      ],
      "metadata": {
        "id": "Em_1hm8VLmrX"
      },
      "execution_count": null,
      "outputs": []
    },
    {
      "cell_type": "code",
      "source": [
        "from re import X\n",
        "for epoch in range(epochs):\n",
        "  for point in c2:\n",
        "    x = data_points[point]\n",
        "    y = 1\n",
        "\n",
        "    summetion = np.dot(weights, x)+bias\n",
        "\n",
        "    if summetion <= 0:\n",
        "      weights += learning_rate * x\n",
        "      bias += learning_rate\n"
      ],
      "metadata": {
        "id": "evCQr3OnLvA3"
      },
      "execution_count": null,
      "outputs": []
    },
    {
      "cell_type": "code",
      "source": [
        "weights"
      ],
      "metadata": {
        "colab": {
          "base_uri": "https://localhost:8080/"
        },
        "id": "Ih_IozT2M5RF",
        "outputId": "8432f13f-3908-43f5-c76d-d004ae94425a"
      },
      "execution_count": null,
      "outputs": [
        {
          "output_type": "execute_result",
          "data": {
            "text/plain": [
              "array([-1., -1., -1.])"
            ]
          },
          "metadata": {},
          "execution_count": 7
        }
      ]
    },
    {
      "cell_type": "code",
      "source": [
        "bias"
      ],
      "metadata": {
        "colab": {
          "base_uri": "https://localhost:8080/"
        },
        "id": "L_yRvwIYM9Ey",
        "outputId": "2ac12ed7-1a6d-474b-8f91-2cf6490731a8"
      },
      "execution_count": null,
      "outputs": [
        {
          "output_type": "execute_result",
          "data": {
            "text/plain": [
              "3"
            ]
          },
          "metadata": {},
          "execution_count": 8
        }
      ]
    },
    {
      "cell_type": "code",
      "source": [
        "new_point = np.array([1,1,1])\n",
        "summetion = np.dot(weights,new_point)+bias"
      ],
      "metadata": {
        "id": "UeFMNrGpMDa6"
      },
      "execution_count": null,
      "outputs": []
    },
    {
      "cell_type": "code",
      "source": [
        "if summetion>0:\n",
        "  print(f\"the new point {new_point} belongs to Class C2\")\n",
        "else :\n",
        "  print(f\"the new point {new_point} belongs to Class C1\")"
      ],
      "metadata": {
        "colab": {
          "base_uri": "https://localhost:8080/"
        },
        "id": "1gP5KZgqNqla",
        "outputId": "1e5007df-8354-48f6-cae1-a5a34255dc7d"
      },
      "execution_count": null,
      "outputs": [
        {
          "output_type": "stream",
          "name": "stdout",
          "text": [
            "the new point [1 1 1] belongs to Class C1\n"
          ]
        }
      ]
    },
    {
      "cell_type": "markdown",
      "source": [
        "1B.Write a python program to find the number of\n",
        "linearly separable problems out of total binary classification problems on {P0(-1,-1,-1)\n",
        ", P1(-1,-1,1) , P2(-1,1,-1) , P3(-1,1,1) ,P4(1,-1,-1)\n",
        ", P5(1,-1,1) , P6(1,1,-1) , P7(1,1,1) }."
      ],
      "metadata": {
        "id": "EbScsOyjhnPS"
      }
    },
    {
      "cell_type": "code",
      "source": [
        "import numpy as np\n",
        "\n",
        "class Perceptron:\n",
        "    def __init__(self, input_size):\n",
        "        self.weights = np.zeros(input_size)\n",
        "        self.bias = 0\n",
        "\n",
        "    def train(self, X, y, learning_rate=1, epochs=1000):\n",
        "        for epoch in range(epochs):\n",
        "            for i in range(X.shape[0]):\n",
        "                if self.predict(X[i]) != y[i]:\n",
        "                    update = learning_rate * y[i]\n",
        "                    self.weights += update * X[i]\n",
        "                    self.bias += update\n",
        "\n",
        "    def predict(self, x):\n",
        "        return 1 if np.dot(self.weights, x) + self.bias > 0 else -1\n",
        "\n",
        "def is_linearly_separable(class1, class2):\n",
        "    data = np.vstack((class1, class2))\n",
        "    labels = np.hstack((np.ones(class1.shape[0]), -1 * np.ones(class2.shape[0])))\n",
        "\n",
        "    perceptron = Perceptron(data.shape[1])\n",
        "    perceptron.train(data, labels)\n",
        "\n",
        "    # Check if the perceptron converged\n",
        "    return all(perceptron.predict(data[i]) == labels[i] for i in range(data.shape[0]))\n",
        "\n",
        "def count_linearly_separable_pairs(points):\n",
        "    count = 0\n",
        "    for i in range(len(points)):\n",
        "        for j in range(i + 1, len(points)):\n",
        "            class1 = points[i]\n",
        "            class2 = points[j]\n",
        "            if is_linearly_separable(class1, class2):\n",
        "                count += 1\n",
        "                print(f\"Classes {i} and {j} are linearly separable.\")\n",
        "\n",
        "    return count\n",
        "\n",
        "if __name__ == \"__main__\":\n",
        "    # Define the points\n",
        "    P0 = np.array([-1, -1, -1])\n",
        "    P1 = np.array([-1, -1, 1])\n",
        "    P2 = np.array([-1, 1, -1])\n",
        "    P3 = np.array([-1, 1, 1])\n",
        "    P4 = np.array([1, -1, -1])\n",
        "    P5 = np.array([1, -1, 1])\n",
        "    P6 = np.array([1, 1, -1])\n",
        "    P7 = np.array([1, 1, 1])\n",
        "\n",
        "    points = [P0, P1, P2, P3, P4, P5, P6, P7]\n",
        "\n",
        "    # Count and print the number of linearly separable pairs\n",
        "    num_linearly_separable = count_linearly_separable_pairs(points)\n",
        "    print(f\"\\nNumber of linearly separable pairs: {num_linearly_separable}\")\n"
      ],
      "metadata": {
        "colab": {
          "base_uri": "https://localhost:8080/"
        },
        "id": "iXXlTKmAOgFS",
        "outputId": "446793d6-8cb9-494f-b5ae-4af7cd77305b"
      },
      "execution_count": null,
      "outputs": [
        {
          "output_type": "stream",
          "name": "stdout",
          "text": [
            "Classes 0 and 1 are linearly separable.\n",
            "Classes 0 and 2 are linearly separable.\n",
            "Classes 0 and 3 are linearly separable.\n",
            "Classes 0 and 4 are linearly separable.\n",
            "Classes 0 and 5 are linearly separable.\n",
            "Classes 0 and 6 are linearly separable.\n",
            "Classes 0 and 7 are linearly separable.\n",
            "Classes 1 and 2 are linearly separable.\n",
            "Classes 1 and 3 are linearly separable.\n",
            "Classes 1 and 4 are linearly separable.\n",
            "Classes 1 and 5 are linearly separable.\n",
            "Classes 1 and 6 are linearly separable.\n",
            "Classes 1 and 7 are linearly separable.\n",
            "Classes 2 and 3 are linearly separable.\n",
            "Classes 2 and 4 are linearly separable.\n",
            "Classes 2 and 5 are linearly separable.\n",
            "Classes 2 and 6 are linearly separable.\n",
            "Classes 2 and 7 are linearly separable.\n",
            "Classes 3 and 4 are linearly separable.\n",
            "Classes 3 and 5 are linearly separable.\n",
            "Classes 3 and 6 are linearly separable.\n",
            "Classes 3 and 7 are linearly separable.\n",
            "Classes 4 and 5 are linearly separable.\n",
            "Classes 4 and 6 are linearly separable.\n",
            "Classes 4 and 7 are linearly separable.\n",
            "Classes 5 and 6 are linearly separable.\n",
            "Classes 5 and 7 are linearly separable.\n",
            "Classes 6 and 7 are linearly separable.\n",
            "\n",
            "Number of linearly separable pairs: 28\n"
          ]
        }
      ]
    }
  ]
}